{
 "cells": [
  {
   "cell_type": "markdown",
   "metadata": {},
   "source": [
    "# Stock market Clustering\n",
    "author- Harshit Sharma\n",
    "\n",
    "a notebook that clusters same type of stocks based on KNN algorithm and then display the result on a 2D plot by doing PCA(principle component analysis) on a high dimensional data using SVD(singular value decomposition)"
   ]
  },
  {
   "cell_type": "code",
   "execution_count": 3,
   "metadata": {},
   "outputs": [],
   "source": [
    "#from pandas_datareader import data\n",
    "import numpy as np\n",
    "import pandas as pd\n",
    "import matplotlib.pyplot as plt\n",
    "import datetime"
   ]
  },
  {
   "cell_type": "code",
   "execution_count": 4,
   "metadata": {},
   "outputs": [],
   "source": [
    "#creating a database\n",
    "companies_dict = {\n",
    "    'Amazon':'AMZN',\n",
    "    'Apple': 'APPL',\n",
    "    'Walgreen':'WBA',\n",
    "    'Northrop Grumman':'NOC',\n",
    "    'Boeing': 'BA',\n",
    "    'Lockheed Martin':'LMT',\n",
    "    'McDonalds':'MCD',\n",
    "    'Intel':'INTC',\n",
    "    'Navistar':'NAV',\n",
    "    'IBM':'IBM',\n",
    "    'Texas Instruments':'TXN',\n",
    "    'Microsoft':'MSFT',\n",
    "    'Mastercard':'MA',\n",
    "    'General Electrics': 'GE',\n",
    "    'Symantec':'SYMC',\n",
    "    'American Express':'AXP',\n",
    "    'Pepsi':'PEP',\n",
    "    'Coca Cola':'KO',\n",
    "    \"johnson & johnson\":'JNJ',\n",
    "    'Toyota':'TM',\n",
    "    'Honda':'HMC',\n",
    "    'Mistubishi':'MSBHY',\n",
    "    'Sony':'SNE',\n",
    "    'Exxon':'XOM',\n",
    "    'Chevron':'CVX',\n",
    "    'Valero Energy':'VLO',\n",
    "    'Ford':'F',\n",
    "    'Bank of America':'BAC'\n",
    "    }"
   ]
  },
  {
   "cell_type": "code",
   "execution_count": 6,
   "metadata": {},
   "outputs": [
    {
     "name": "stdout",
     "output_type": "stream",
     "text": [
      "[('Amazon', 'AMZN'), ('Apple', 'APPL'), ('American Express', 'AXP'), ('Boeing', 'BA'), ('Bank of America', 'BAC'), ('Chevron', 'CVX'), ('Ford', 'F'), ('General Electrics', 'GE'), ('Honda', 'HMC'), ('IBM', 'IBM'), ('Intel', 'INTC'), ('johnson & johnson', 'JNJ'), ('Coca Cola', 'KO'), ('Lockheed Martin', 'LMT'), ('Mastercard', 'MA'), ('McDonalds', 'MCD'), ('Mistubishi', 'MSBHY'), ('Microsoft', 'MSFT'), ('Navistar', 'NAV'), ('Northrop Grumman', 'NOC'), ('Pepsi', 'PEP'), ('Sony', 'SNE'), ('Symantec', 'SYMC'), ('Toyota', 'TM'), ('Texas Instruments', 'TXN'), ('Valero Energy', 'VLO'), ('Walgreen', 'WBA'), ('Exxon', 'XOM')]\n"
     ]
    }
   ],
   "source": [
    "companies = sorted(companies_dict.items(), key = lambda x:x[1])\n",
    "print(companies)"
   ]
  },
  {
   "cell_type": "code",
   "execution_count": null,
   "metadata": {},
   "outputs": [],
   "source": [
    "#define online source\n"
   ]
  }
 ],
 "metadata": {
  "kernelspec": {
   "display_name": "Python 3",
   "language": "python",
   "name": "python3"
  },
  "language_info": {
   "codemirror_mode": {
    "name": "ipython",
    "version": 3
   },
   "file_extension": ".py",
   "mimetype": "text/x-python",
   "name": "python",
   "nbconvert_exporter": "python",
   "pygments_lexer": "ipython3",
   "version": "3.8.3"
  }
 },
 "nbformat": 4,
 "nbformat_minor": 4
}
