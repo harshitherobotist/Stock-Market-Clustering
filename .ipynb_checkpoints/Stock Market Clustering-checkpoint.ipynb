{
 "cells": [
  {
   "cell_type": "markdown",
   "metadata": {},
   "source": [
    "# Stock market Clustering\n",
    "author- Harshit Sharma\n",
    "\n",
    "a notebook that clusters same type of stocks based on KNN algorithm and then display the result on a 2D plot by doing PCA(principle component analysis) on a high dimensional data using SVD(singular value decomposition)"
   ]
  },
  {
   "cell_type": "code",
   "execution_count": 1,
   "metadata": {},
   "outputs": [],
   "source": [
    "from pandas_datareader import data\n",
    "import numpy as np\n",
    "import pandas as pd\n",
    "import matplotlib.pyplot as plt\n",
    "import datetime\n",
    "from datetime import datetime"
   ]
  },
  {
   "cell_type": "code",
   "execution_count": 2,
   "metadata": {},
   "outputs": [],
   "source": [
    "#creating a database\n",
    "companies_dict = {\n",
    "    'Amazon':'AMZN',\n",
    "    'Apple': 'AAPL',\n",
    "    'Walgreen':'WBA',\n",
    "    'Northrop Grumman':'NOC',\n",
    "    'Boeing': 'BA',\n",
    "    'Lockheed Martin':'LMT',\n",
    "    'McDonalds':'MCD',\n",
    "    'Intel':'INTC',\n",
    "    'Navistar':'NAV',\n",
    "    'IBM':'IBM',\n",
    "    'Texas Instruments':'TXN',\n",
    "    'Microsoft':'MSFT',\n",
    "    'Mastercard':'MA',\n",
    "    'General Electrics': 'GE',\n",
    "    'American Express':'AXP',\n",
    "    'Pepsi':'PEP',\n",
    "    'Coca Cola':'KO',\n",
    "    \"johnson & johnson\":'JNJ',\n",
    "    'Toyota':'TM',\n",
    "    'Honda':'HMC',\n",
    "    'Mistubishi':'MSBHF',\n",
    "    'Sony':'SONY',\n",
    "    'Exxon':'XOM',\n",
    "    'Chevron':'CVX',\n",
    "    'Valero Energy':'VLO',\n",
    "    'Ford':'F',\n",
    "    'Bank of America':'BAC'\n",
    "    }\n",
    "#companies_dict = list(companies_dict.values())"
   ]
  },
  {
   "cell_type": "code",
   "execution_count": 3,
   "metadata": {},
   "outputs": [
    {
     "name": "stdout",
     "output_type": "stream",
     "text": [
      "['AAPL', 'AMZN', 'AXP', 'BA', 'BAC', 'CVX', 'F', 'GE', 'HMC', 'IBM', 'INTC', 'JNJ', 'KO', 'LMT', 'MA', 'MCD', 'MSBHF', 'MSFT', 'NAV', 'NOC', 'PEP', 'SONY', 'TM', 'TXN', 'VLO', 'WBA', 'XOM']\n"
     ]
    }
   ],
   "source": [
    "companies = sorted(companies_dict.items(), key = lambda x:x[1])\n",
    "companies_ls = []\n",
    "for i,(k,v) in enumerate(companies):\n",
    "    companies_ls.append(v)\n",
    "print(companies_ls)"
   ]
  },
  {
   "cell_type": "code",
   "execution_count": 9,
   "metadata": {},
   "outputs": [
    {
     "name": "stdout",
     "output_type": "stream",
     "text": [
      "[DatetimeIndex(['2014-12-31', '2015-01-02', '2015-01-05', '2015-01-06',\n",
      "               '2015-01-07', '2015-01-08', '2015-01-09', '2015-01-12',\n",
      "               '2015-01-13', '2015-01-14',\n",
      "               ...\n",
      "               '2017-12-15', '2017-12-18', '2017-12-19', '2017-12-20',\n",
      "               '2017-12-21', '2017-12-22', '2017-12-26', '2017-12-27',\n",
      "               '2017-12-28', '2017-12-29'],\n",
      "              dtype='datetime64[ns]', name='Date', length=756, freq=None), MultiIndex([('Adj Close', 'AAPL'),\n",
      "            ('Adj Close', 'AMZN'),\n",
      "            ('Adj Close',  'AXP'),\n",
      "            ('Adj Close',   'BA'),\n",
      "            ('Adj Close',  'BAC'),\n",
      "            ('Adj Close',  'CVX'),\n",
      "            ('Adj Close',    'F'),\n",
      "            ('Adj Close',   'GE'),\n",
      "            ('Adj Close',  'HMC'),\n",
      "            ('Adj Close',  'IBM'),\n",
      "            ...\n",
      "            (   'Volume', 'MSFT'),\n",
      "            (   'Volume',  'NAV'),\n",
      "            (   'Volume',  'NOC'),\n",
      "            (   'Volume',  'PEP'),\n",
      "            (   'Volume', 'SONY'),\n",
      "            (   'Volume',   'TM'),\n",
      "            (   'Volume',  'TXN'),\n",
      "            (   'Volume',  'VLO'),\n",
      "            (   'Volume',  'WBA'),\n",
      "            (   'Volume',  'XOM')],\n",
      "           names=['Attributes', 'Symbols'], length=162)]\n",
      "MultiIndex([('Adj Close', 'AAPL'),\n",
      "            ('Adj Close', 'AMZN'),\n",
      "            ('Adj Close',  'AXP'),\n",
      "            ('Adj Close',   'BA'),\n",
      "            ('Adj Close',  'BAC'),\n",
      "            ('Adj Close',  'CVX'),\n",
      "            ('Adj Close',    'F'),\n",
      "            ('Adj Close',   'GE'),\n",
      "            ('Adj Close',  'HMC'),\n",
      "            ('Adj Close',  'IBM'),\n",
      "            ...\n",
      "            (   'Volume', 'MSFT'),\n",
      "            (   'Volume',  'NAV'),\n",
      "            (   'Volume',  'NOC'),\n",
      "            (   'Volume',  'PEP'),\n",
      "            (   'Volume', 'SONY'),\n",
      "            (   'Volume',   'TM'),\n",
      "            (   'Volume',  'TXN'),\n",
      "            (   'Volume',  'VLO'),\n",
      "            (   'Volume',  'WBA'),\n",
      "            (   'Volume',  'XOM')],\n",
      "           names=['Attributes', 'Symbols'], length=162)\n"
     ]
    }
   ],
   "source": [
    "#define online source\n",
    "data_source = 'yahoo'\n",
    "\n",
    "#define the start and end dates\n",
    "start_date = datetime(2015,1,1)\n",
    "end_date = datetime(2017,12,31)\n",
    "\n",
    "#loading the stock data using pandas_reader\n",
    "panel_data = data.DataReader(companies_ls, data_source, start_date, end_date)\n",
    "\n",
    "#print axis labels\n",
    "print(panel_data.axes)\n",
    "print(panel_data.keys())"
   ]
  },
  {
   "cell_type": "code",
   "execution_count": 11,
   "metadata": {},
   "outputs": [
    {
     "name": "stdout",
     "output_type": "stream",
     "text": [
      "Symbols\n",
      "AAPL      27.332500\n",
      "AMZN     308.519989\n",
      "AXP       93.019997\n",
      "BA       129.949997\n",
      "BAC       17.900000\n",
      "CVX      112.580002\n",
      "F         15.360000\n",
      "GE        24.096153\n",
      "HMC       29.590000\n",
      "IBM      162.059998\n",
      "INTC      36.360001\n",
      "JNJ      104.519997\n",
      "KO        42.139999\n",
      "LMT      193.309998\n",
      "MA        85.680000\n",
      "MCD       93.260002\n",
      "MSBHF     18.260000\n",
      "MSFT      46.759998\n",
      "NAV       34.160000\n",
      "NOC      146.460007\n",
      "PEP       94.440002\n",
      "SONY      20.559999\n",
      "TM       125.669998\n",
      "TXN       53.480000\n",
      "VLO       50.340000\n",
      "WBA       76.000000\n",
      "XOM       92.830002\n",
      "Name: 2015-01-02 00:00:00, dtype: float64\n"
     ]
    }
   ],
   "source": [
    "#find the open and close prices of data\n",
    "stock_close = panel_data['Close']\n",
    "stock_open = panel_data['Open']\n",
    "\n",
    "print(stock_close.iloc[1])"
   ]
  },
  {
   "cell_type": "code",
   "execution_count": 26,
   "metadata": {},
   "outputs": [
    {
     "name": "stdout",
     "output_type": "stream",
     "text": [
      "27 756\n"
     ]
    }
   ],
   "source": [
    "#daily stock movements\n",
    "stock_close = np.array(stock_close).T\n",
    "stock_open = np.array(stock_open).T\n",
    "row,col = stock_close.shape\n",
    "print(row,col)\n",
    "\n",
    "movements = np.zeros([row,col])\n"
   ]
  },
  {
   "cell_type": "code",
   "execution_count": 27,
   "metadata": {},
   "outputs": [
    {
     "name": "stdout",
     "output_type": "stream",
     "text": [
      "Name: Apple, Change: 3.5624732971191406\n",
      "Name: Amazon, Change: -83.93020629882812\n",
      "Name: American Express, Change: 5.600105285644531\n",
      "Name: Boeing, Change: 100.44984436035156\n",
      "Name: Bank of America, Change: -3.780003547668457\n",
      "Name: Chevron, Change: 27.099990844726562\n",
      "Name: Ford, Change: -5.559996604919434\n",
      "Name: General Electrics, Change: 4.509613037109375\n",
      "Name: Honda, Change: -8.180000305175781\n",
      "Name: IBM, Change: 15.669967651367188\n",
      "Name: Intel, Change: 19.52003288269043\n",
      "Name: johnson & johnson, Change: 30.619949340820312\n",
      "Name: Coca Cola, Change: 11.459976196289062\n",
      "Name: Lockheed Martin, Change: 57.899932861328125\n",
      "Name: Mastercard, Change: 23.569869995117188\n",
      "Name: McDonalds, Change: 51.290016174316406\n",
      "Name: Mistubishi, Change: -1.2500009536743164\n",
      "Name: Microsoft, Change: 28.480026245117188\n",
      "Name: Navistar, Change: -0.6599926948547363\n",
      "Name: Northrop Grumman, Change: 72.03007507324219\n",
      "Name: Pepsi, Change: 36.96997833251953\n",
      "Name: Sony, Change: -0.4999885559082031\n",
      "Name: Toyota, Change: -17.430099487304688\n",
      "Name: Texas Instruments, Change: 28.409912109375\n",
      "Name: Valero Energy, Change: 29.399993896484375\n",
      "Name: Walgreen, Change: -5.940071105957031\n",
      "Name: Exxon, Change: 9.929985046386719\n"
     ]
    }
   ],
   "source": [
    "for i in range(0,row):\n",
    "    movements[i,:] = np.subtract(stock_close[i,:],stock_open[i,:])\n",
    "for i in range(len(companies_ls)):\n",
    "    print('Name: {}, Change: {}'.format(companies[i][0],sum(movements[i][:])))"
   ]
  },
  {
   "cell_type": "code",
   "execution_count": 29,
   "metadata": {},
   "outputs": [
    {
     "data": {
      "text/plain": [
       "(27, 756)"
      ]
     },
     "execution_count": 29,
     "metadata": {},
     "output_type": "execute_result"
    }
   ],
   "source": [
    "#check shape should be 27, 756 here\n",
    "movements.shape"
   ]
  },
  {
   "cell_type": "code",
   "execution_count": null,
   "metadata": {},
   "outputs": [],
   "source": []
  }
 ],
 "metadata": {
  "kernelspec": {
   "display_name": "Python 3",
   "language": "python",
   "name": "python3"
  },
  "language_info": {
   "codemirror_mode": {
    "name": "ipython",
    "version": 3
   },
   "file_extension": ".py",
   "mimetype": "text/x-python",
   "name": "python",
   "nbconvert_exporter": "python",
   "pygments_lexer": "ipython3",
   "version": "3.7.10"
  }
 },
 "nbformat": 4,
 "nbformat_minor": 4
}
